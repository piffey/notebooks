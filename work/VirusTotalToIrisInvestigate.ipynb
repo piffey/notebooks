{
 "cells": [
  {
   "cell_type": "markdown",
   "metadata": {},
   "source": [
    "# VirusTotal Search to Iris Investigate\n",
    "\n",
    "## Research Questions\n",
    "\n",
    "Is there value in taking a VirusTotal search, pulling all of the related domains and IPs from it, then loading them into Iris Investigate?\n",
    "\n",
    "Do pivots then on those initial data points provide more useful information for searches?\n",
    "\n",
    "---"
   ]
  },
  {
   "cell_type": "markdown",
   "metadata": {},
   "source": [
    "# Setup\n",
    "\n",
    "Import packages, then load in our credentials using dotenv which allows us to use a `.env` file in the Notebooks directory. This makes sure we don't store our credentials in a notebook, but also that they do not rely on running on a single developer's machine. We can have Jupyter Lab launched via Docker or via CI/CD and load those environment variables in automatically."
   ]
  },
  {
   "cell_type": "code",
   "execution_count": null,
   "metadata": {},
   "outputs": [],
   "source": [
    "import os\n",
    "import pprint\n",
    "\n",
    "import domaintools\n",
    "import dotenv\n",
    "import matplotlib\n",
    "import matplotlib.pyplot as plt\n",
    "import requests"
   ]
  },
  {
   "cell_type": "code",
   "execution_count": null,
   "metadata": {},
   "outputs": [],
   "source": [
    "dotenv.load_dotenv()\n",
    "vt_api_key = os.getenv('VT_API_KEY')\n",
    "dt_api_user = os.getenv('DT_API_USER')\n",
    "dt_api_key = os.getenv('DT_API_KEY')"
   ]
  },
  {
   "cell_type": "markdown",
   "metadata": {},
   "source": [
    "# Query\n",
    "\n",
    "Initial query to grab all of the objects that match our search."
   ]
  },
  {
   "cell_type": "code",
   "execution_count": null,
   "metadata": {},
   "outputs": [],
   "source": [
    "vt_api_url_base = 'https://www.virustotal.com/api/v3'\n",
    "headers = {'x-apikey': vt_api_key}\n",
    "\n",
    "query = 'tag:cve-2020-0796'\n",
    "\n",
    "results = requests.get('{}/intelligence/search?query={}&limit=300'.format(vt_api_url_base, query), headers=headers)"
   ]
  },
  {
   "cell_type": "markdown",
   "metadata": {},
   "source": [
    "# Extract Links to Objects\n",
    "\n",
    "From our query, extract all of the links that lead to the objects we want to observe. We only want things that have shown up as malicious or suspicious here. From this we can investigate all of those objects and hunt for relationships we want to extract from them."
   ]
  },
  {
   "cell_type": "code",
   "execution_count": null,
   "metadata": {},
   "outputs": [],
   "source": [
    "links = list()\n",
    "for result in results.json()['data']:\n",
    "    malicious = result['attributes']['last_analysis_stats']['malicious']\n",
    "    suspicious = result['attributes']['last_analysis_stats']['suspicious']\n",
    "    if malicious > 0 or suspicious > 0:\n",
    "        links.append(result['links']['self'])"
   ]
  },
  {
   "cell_type": "markdown",
   "metadata": {},
   "source": [
    "# Extract Relationships\n",
    "\n",
    "Go through each objects, extract the relationships, and set them up for enhancement via Iris Investigate."
   ]
  },
  {
   "cell_type": "code",
   "execution_count": null,
   "metadata": {},
   "outputs": [],
   "source": [
    "traffic_data = list()\n",
    "for link in links:\n",
    "    ip_traffic = list()\n",
    "    dns_lookups = list()\n",
    "    request = requests.get('{}/behaviours'.format(link), headers=headers)\n",
    "    \n",
    "    if len(request.json()['data']) == 0:\n",
    "        continue\n",
    "        \n",
    "    data = request.json()['data']\n",
    "\n",
    "    for instance in data:\n",
    "        ip_traffic.extend(instance['attributes'].get('ip_traffic', list()))\n",
    "        dns_lookups.extend(instance['attributes'].get('dns_lookups', list()))\n",
    "        \n",
    "    unique_ips = {traffic['destination_ip'] for traffic in ip_traffic}\n",
    "    unique_hostnames = {lookup['hostname'] for lookup in dns_lookups}\n",
    "        \n",
    "    traffic_data.append({'ip_traffic': ip_traffic,\n",
    "                         'dns_lookups': dns_lookups,\n",
    "                         'url': link})"
   ]
  },
  {
   "cell_type": "markdown",
   "metadata": {},
   "source": [
    "# Query IPs with Iris Investigate\n",
    "\n",
    "Cycle through all of this and now enrich with Iris Investigate, extract just the domains for some other work, and print domains in a copy-paste-able into Iris if needed."
   ]
  },
  {
   "cell_type": "code",
   "execution_count": null,
   "metadata": {},
   "outputs": [],
   "source": [
    "dt_api = domaintools.API(dt_api_user, dt_api_key)\n",
    "domain_data = list()\n",
    "\n",
    "for traffic in traffic_data:\n",
    "    for ip_traffic in traffic.get('ip_traffic'):\n",
    "        domain_data.extend([domain for domain in dt_api.iris_investigate(ip=ip_traffic['destination_ip'])])\n",
    "        \n",
    "domains = {domain['domain'] for domain in domain_data}\n",
    "\n",
    "# If you want to copy and paste this into Iris for an investigation, uncomment:\n",
    "# print(','.join(domains))"
   ]
  },
  {
   "cell_type": "markdown",
   "metadata": {},
   "source": [
    "# Risk Score Graph\n",
    "\n",
    "Extract our risk score from enriched data, then graph that to see levels of badness here. If it is rated at 100 it is already on a blocklist."
   ]
  },
  {
   "cell_type": "code",
   "execution_count": null,
   "metadata": {},
   "outputs": [],
   "source": [
    "risk_scores = [0] * 100\n",
    "for domain in domain_data:\n",
    "    if domain.get('domain_risk') == None or domain['domain_risk'].get('risk_score') == None:\n",
    "        print('No risk score for {}.'.format(domain['domain']))\n",
    "        continue\n",
    "        \n",
    "    risk_scores[domain['domain_risk']['risk_score'] - 1] += 1"
   ]
  },
  {
   "cell_type": "code",
   "execution_count": null,
   "metadata": {},
   "outputs": [],
   "source": [
    "fig, ax = plt.subplots()\n",
    "ax.plot(range(100), risk_scores)\n",
    "ax.set(xlabel='Risk Score 1 to 100', ylabel='Count of Domains',\n",
    "       title='Plotted Risk Scores of {} Domains'.format(len(domains)))\n",
    "ax.grid()\n",
    "# If you want to save the figure for later versus just show in-line.\n",
    "# fig.savefig('filename.png')\n",
    "plt.show()"
   ]
  },
  {
   "cell_type": "code",
   "execution_count": null,
   "metadata": {},
   "outputs": [],
   "source": []
  }
 ],
 "metadata": {
  "kernelspec": {
   "display_name": "Python 3",
   "language": "python",
   "name": "python3"
  },
  "language_info": {
   "codemirror_mode": {
    "name": "ipython",
    "version": 3
   },
   "file_extension": ".py",
   "mimetype": "text/x-python",
   "name": "python",
   "nbconvert_exporter": "python",
   "pygments_lexer": "ipython3",
   "version": "3.7.6"
  }
 },
 "nbformat": 4,
 "nbformat_minor": 4
}
